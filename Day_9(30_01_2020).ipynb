{
  "nbformat": 4,
  "nbformat_minor": 0,
  "metadata": {
    "colab": {
      "name": "Day 9(30-01-2020)",
      "provenance": [],
      "authorship_tag": "ABX9TyOfjyfxUajCiwYlxhIfY2lM",
      "include_colab_link": true
    },
    "kernelspec": {
      "name": "python3",
      "display_name": "Python 3"
    }
  },
  "cells": [
    {
      "cell_type": "markdown",
      "metadata": {
        "id": "view-in-github",
        "colab_type": "text"
      },
      "source": [
        "<a href=\"https://colab.research.google.com/github/kolimitehseenraisabasri813/Python/blob/master/Day_9(30_01_2020).ipynb\" target=\"_parent\"><img src=\"https://colab.research.google.com/assets/colab-badge.svg\" alt=\"Open In Colab\"/></a>"
      ]
    },
    {
      "cell_type": "code",
      "metadata": {
        "id": "vI1UsxPd7_yL",
        "colab_type": "code",
        "colab": {}
      },
      "source": [
        ""
      ],
      "execution_count": 0,
      "outputs": []
    },
    {
      "cell_type": "markdown",
      "metadata": {
        "id": "5LmQg3uY9kd5",
        "colab_type": "text"
      },
      "source": [
        "# Markdown\n",
        "## Markdown\n",
        "### Markdown\n",
        "##### Markdown"
      ]
    },
    {
      "cell_type": "markdown",
      "metadata": {
        "id": "i_Tf0EwZ-eU-",
        "colab_type": "text"
      },
      "source": [
        "**Points**\n",
        "\n",
        "*Points*\n",
        "\n",
        "***Points***"
      ]
    },
    {
      "cell_type": "code",
      "metadata": {
        "id": "BTGSXWsu9zuN",
        "colab_type": "code",
        "colab": {}
      },
      "source": [
        ""
      ],
      "execution_count": 0,
      "outputs": []
    },
    {
      "cell_type": "markdown",
      "metadata": {
        "id": "GEltq5I__YbR",
        "colab_type": "text"
      },
      "source": [
        " ***Adding links to Markdown***\n",
        "[site](https://en.wikipedia.org/wiki/Jawaharlal_Nehru_Technological_University,_Anantapur)"
      ]
    },
    {
      "cell_type": "code",
      "metadata": {
        "id": "QCpdESpfBpAm",
        "colab_type": "code",
        "colab": {}
      },
      "source": [
        ""
      ],
      "execution_count": 0,
      "outputs": []
    },
    {
      "cell_type": "markdown",
      "metadata": {
        "id": "InRWGn_3Brjy",
        "colab_type": "text"
      },
      "source": [
        "### Inserting Image ###\n",
        "![Text](https://www.jntua.ac.in/wp-content/uploads/2018/09/slider01.jpg)"
      ]
    },
    {
      "cell_type": "code",
      "metadata": {
        "id": "gJgpqGNpCHSJ",
        "colab_type": "code",
        "colab": {
          "base_uri": "https://localhost:8080/",
          "height": 34
        },
        "outputId": "0d45140b-0f7b-4085-c8ed-36ae6956de9b"
      },
      "source": [
        "print(\"hello world!\")"
      ],
      "execution_count": 1,
      "outputs": [
        {
          "output_type": "stream",
          "text": [
            "hello world!\n"
          ],
          "name": "stdout"
        }
      ]
    },
    {
      "cell_type": "code",
      "metadata": {
        "id": "Rkrql7UhCyHG",
        "colab_type": "code",
        "colab": {
          "base_uri": "https://localhost:8080/",
          "height": 34
        },
        "outputId": "747c8b1e-81ec-44fa-db28-77bba598f22a"
      },
      "source": [
        "# Variable creation\n",
        " print(\"hello , jntua\")"
      ],
      "execution_count": 2,
      "outputs": [
        {
          "output_type": "stream",
          "text": [
            "hello , jntua\n"
          ],
          "name": "stdout"
        }
      ]
    },
    {
      "cell_type": "code",
      "metadata": {
        "id": "qITSZ6zbIDRk",
        "colab_type": "code",
        "colab": {
          "base_uri": "https://localhost:8080/",
          "height": 34
        },
        "outputId": "29b5e2ab-c37c-4910-dc3e-661f02f351a0"
      },
      "source": [
        "print(\"hello, jntua\",\"|||\",\"chemical\",\"|||\",\"CSE\",\"|||\",\"MCA\")"
      ],
      "execution_count": 4,
      "outputs": [
        {
          "output_type": "stream",
          "text": [
            "hello, jntua ||| chemical ||| CSE ||| MCA\n"
          ],
          "name": "stdout"
        }
      ]
    },
    {
      "cell_type": "code",
      "metadata": {
        "id": "aVbq6RSTInCo",
        "colab_type": "code",
        "colab": {}
      },
      "source": [
        ""
      ],
      "execution_count": 0,
      "outputs": []
    },
    {
      "cell_type": "markdown",
      "metadata": {
        "id": "kQpYtEHlIw6w",
        "colab_type": "text"
      },
      "source": [
        "# Assignment"
      ]
    },
    {
      "cell_type": "code",
      "metadata": {
        "id": "oGvzHqfMI1ek",
        "colab_type": "code",
        "colab": {}
      },
      "source": [
        "n1 = 100 # single variable assignment\n",
        "n1"
      ],
      "execution_count": 0,
      "outputs": []
    },
    {
      "cell_type": "code",
      "metadata": {
        "id": "KA0AsNFWJDro",
        "colab_type": "code",
        "colab": {
          "base_uri": "https://localhost:8080/",
          "height": 68
        },
        "outputId": "768d1673-e0dd-479c-9e1b-3a8a3bcb4c95"
      },
      "source": [
        "n1 = 100 # single variable assignment\n",
        "print(n1)\n",
        "a = b = c = 10 # multi variable assignment of same value\n",
        "print(a,b,c)\n",
        "a1,b1,c1 = 100,200,300 # multiple variable assignment with different values\n",
        "print(a1,b1,c1)\n"
      ],
      "execution_count": 10,
      "outputs": [
        {
          "output_type": "stream",
          "text": [
            "100\n",
            "10 10 10\n",
            "100 200 300\n"
          ],
          "name": "stdout"
        }
      ]
    },
    {
      "cell_type": "code",
      "metadata": {
        "id": "X1crRhOBJNjh",
        "colab_type": "code",
        "colab": {}
      },
      "source": [
        ""
      ],
      "execution_count": 0,
      "outputs": []
    },
    {
      "cell_type": "markdown",
      "metadata": {
        "id": "zI8-SxIVKcGJ",
        "colab_type": "text"
      },
      "source": [
        "# Data types and conversions\n",
        "* int\n",
        "* float\n",
        "* string"
      ]
    },
    {
      "cell_type": "code",
      "metadata": {
        "id": "TDNpLONmKs6X",
        "colab_type": "code",
        "colab": {
          "base_uri": "https://localhost:8080/",
          "height": 34
        },
        "outputId": "80c097ca-c0c9-4959-bcfb-2706f7bbbbf3"
      },
      "source": [
        "a = 100\n",
        "s1 = 10.2\n",
        "s2 = \"python\"\n",
        "print(type(a),type(s1),type(s2))"
      ],
      "execution_count": 12,
      "outputs": [
        {
          "output_type": "stream",
          "text": [
            "<class 'int'> <class 'float'> <class 'str'>\n"
          ],
          "name": "stdout"
        }
      ]
    },
    {
      "cell_type": "code",
      "metadata": {
        "id": "DNQU5aXaK_ed",
        "colab_type": "code",
        "colab": {
          "base_uri": "https://localhost:8080/",
          "height": 68
        },
        "outputId": "f6b7b621-b9bb-4316-bcc1-ce1ebbb451a7"
      },
      "source": [
        "i = 100 \n",
        "print(type(i))\n",
        "s1 = str(i)\n",
        "print(type(s1))\n",
        "f1 = float(i)\n",
        "print(type(f1))\n",
        "        "
      ],
      "execution_count": 13,
      "outputs": [
        {
          "output_type": "stream",
          "text": [
            "<class 'int'>\n",
            "<class 'str'>\n",
            "<class 'float'>\n"
          ],
          "name": "stdout"
        }
      ]
    },
    {
      "cell_type": "code",
      "metadata": {
        "id": "cDnVRMFoMcaa",
        "colab_type": "code",
        "colab": {
          "base_uri": "https://localhost:8080/",
          "height": 34
        },
        "outputId": "54fd26c5-1f07-49c8-c434-fc805c2231e4"
      },
      "source": [
        "# length\n",
        "a = 123456\n",
        "print(len(str(a)))"
      ],
      "execution_count": 15,
      "outputs": [
        {
          "output_type": "stream",
          "text": [
            "6\n"
          ],
          "name": "stdout"
        }
      ]
    },
    {
      "cell_type": "code",
      "metadata": {
        "id": "lkx8R5tRM4XK",
        "colab_type": "code",
        "colab": {}
      },
      "source": [
        ""
      ],
      "execution_count": 0,
      "outputs": []
    },
    {
      "cell_type": "markdown",
      "metadata": {
        "id": "4CwKCvY8NY10",
        "colab_type": "text"
      },
      "source": [
        "# Reading input from user--input function"
      ]
    },
    {
      "cell_type": "code",
      "metadata": {
        "id": "1cmCKlp1N08-",
        "colab_type": "code",
        "colab": {
          "base_uri": "https://localhost:8080/",
          "height": 68
        },
        "outputId": "0a049cff-7c6f-4769-cf0a-0a7f708ce88b"
      },
      "source": [
        "a = input(\"enter ur name\")\n",
        "print(a)\n",
        "print(type(a))\n"
      ],
      "execution_count": 17,
      "outputs": [
        {
          "output_type": "stream",
          "text": [
            "enter ur nameRaisa\n",
            "Raisa\n",
            "<class 'str'>\n"
          ],
          "name": "stdout"
        }
      ]
    },
    {
      "cell_type": "code",
      "metadata": {
        "id": "6uP_2IM4OUAW",
        "colab_type": "code",
        "colab": {
          "base_uri": "https://localhost:8080/",
          "height": 68
        },
        "outputId": "ae98dd5a-b26a-48d7-92b2-9856b5c34f58"
      },
      "source": [
        "b = int(input(\"enter ur age:\"))\n",
        "print(b)\n",
        "print(type(b))"
      ],
      "execution_count": 18,
      "outputs": [
        {
          "output_type": "stream",
          "text": [
            "enter ur age:19\n",
            "19\n",
            "<class 'int'>\n"
          ],
          "name": "stdout"
        }
      ]
    },
    {
      "cell_type": "markdown",
      "metadata": {
        "id": "ARGYo5ifPA8x",
        "colab_type": "text"
      },
      "source": [
        "# Operators\n",
        "- Operator is a symbol used to perform a specific kind of operations"
      ]
    },
    {
      "cell_type": "markdown",
      "metadata": {
        "id": "oCO4FVD0PD_9",
        "colab_type": "text"
      },
      "source": [
        "# Arithmetic Operator\n",
        "- +\n",
        "- -\n",
        "- *\n",
        "- /\n",
        "- %\n",
        "- //\n",
        "- **"
      ]
    },
    {
      "cell_type": "markdown",
      "metadata": {
        "id": "c7-_2DErR5DZ",
        "colab_type": "text"
      },
      "source": [
        ""
      ]
    },
    {
      "cell_type": "code",
      "metadata": {
        "id": "GViCmwxsQPcP",
        "colab_type": "code",
        "colab": {
          "base_uri": "https://localhost:8080/",
          "height": 136
        },
        "outputId": "e1b44468-f344-49d3-dbd3-6b7afed08e11"
      },
      "source": [
        "a = 1234\n",
        "print(a+10)\n",
        "print(a-10)\n",
        "print(a*10)\n",
        "print(a/10)\n",
        "print(a%10)\n",
        "print(a//10)\n",
        "print(a**10)\n"
      ],
      "execution_count": 25,
      "outputs": [
        {
          "output_type": "stream",
          "text": [
            "1244\n",
            "1224\n",
            "12340\n",
            "123.4\n",
            "4\n",
            "123\n",
            "8187505353567209228244052427776\n"
          ],
          "name": "stdout"
        }
      ]
    },
    {
      "cell_type": "code",
      "metadata": {
        "id": "ho-slrxTQlQr",
        "colab_type": "code",
        "colab": {}
      },
      "source": [
        ""
      ],
      "execution_count": 0,
      "outputs": []
    },
    {
      "cell_type": "markdown",
      "metadata": {
        "id": "jV8Zgh5ZR779",
        "colab_type": "text"
      },
      "source": [
        "# Relational Operators\n",
        "- =\n",
        "- ==\n",
        "- !=\n",
        "- <\n",
        " \n",
        "- <=\n"
      ]
    },
    {
      "cell_type": "code",
      "metadata": {
        "id": "IXlkguYtSTd3",
        "colab_type": "code",
        "colab": {
          "base_uri": "https://localhost:8080/",
          "height": 34
        },
        "outputId": "571f1f6b-82d3-49fb-f2f8-46bf93b93ed1"
      },
      "source": [
        "x = 10\n",
        "a1 = x > 15\n",
        "print(a1) \n"
      ],
      "execution_count": 26,
      "outputs": [
        {
          "output_type": "stream",
          "text": [
            "False\n"
          ],
          "name": "stdout"
        }
      ]
    },
    {
      "cell_type": "markdown",
      "metadata": {
        "id": "q4EZmtoGS4w2",
        "colab_type": "text"
      },
      "source": [
        "# Logical Operators\n",
        "- and\n",
        "- or\n",
        "- not\n"
      ]
    },
    {
      "cell_type": "code",
      "metadata": {
        "id": "2ticaN2RSpSF",
        "colab_type": "code",
        "colab": {
          "base_uri": "https://localhost:8080/",
          "height": 68
        },
        "outputId": "69a8a8bf-354a-43da-dc4b-4dc5c846edf2"
      },
      "source": [
        "i = 100\n",
        "a1 = (i>15) and (i<800)\n",
        "a2 = (i>15) or (i>800)\n",
        "i = not 100\n",
        "print(a1)\n",
        "print(a2)\n",
        "print(i)"
      ],
      "execution_count": 29,
      "outputs": [
        {
          "output_type": "stream",
          "text": [
            "True\n",
            "True\n",
            "False\n"
          ],
          "name": "stdout"
        }
      ]
    },
    {
      "cell_type": "code",
      "metadata": {
        "id": "oYN59j5ITl6L",
        "colab_type": "code",
        "colab": {}
      },
      "source": [
        ""
      ],
      "execution_count": 0,
      "outputs": []
    },
    {
      "cell_type": "markdown",
      "metadata": {
        "id": "oCKk2p2RUjR5",
        "colab_type": "text"
      },
      "source": [
        "# Control Flow Statements\n",
        "- Conditional statements\n",
        "- Looping statements\n"
      ]
    },
    {
      "cell_type": "code",
      "metadata": {
        "id": "EnBflrT1UvoA",
        "colab_type": "code",
        "colab": {}
      },
      "source": [
        ""
      ],
      "execution_count": 0,
      "outputs": []
    },
    {
      "cell_type": "markdown",
      "metadata": {
        "id": "16DPGwk8U-Ja",
        "colab_type": "text"
      },
      "source": [
        "# If-else Statement\n",
        "## Syntax\n",
        "# If Boolean_condition \n",
        "# statements\n",
        "# else:\n",
        "# statements"
      ]
    },
    {
      "cell_type": "code",
      "metadata": {
        "id": "txhnigeoVVQ-",
        "colab_type": "code",
        "colab": {
          "base_uri": "https://localhost:8080/",
          "height": 51
        },
        "outputId": "d05826e6-fa19-41dd-b1bb-f5963bd8fcf8"
      },
      "source": [
        "# To check given number is even or odd\n",
        "n = int(input(\"enter a number\"))\n",
        "if n%2 == 0:\n",
        "  print(n,\"is even number\")\n",
        "else:\n",
        "  print(n,\"is odd number\")\n"
      ],
      "execution_count": 34,
      "outputs": [
        {
          "output_type": "stream",
          "text": [
            "enter a number66\n",
            "66 is even number\n"
          ],
          "name": "stdout"
        }
      ]
    },
    {
      "cell_type": "code",
      "metadata": {
        "id": "8eD_owVAWD0B",
        "colab_type": "code",
        "colab": {
          "base_uri": "https://localhost:8080/",
          "height": 51
        },
        "outputId": "46e90426-5eb9-489b-9d58-fe34b04fe696"
      },
      "source": [
        "# To check given number is perfectly multiples of 3 and 5\n",
        "n = int(input(\"enter a number\"))\n",
        "if n%3 == 0 and n%5 == 0:\n",
        "  print(n,\"is a multiple of 3 and 5\")\n",
        "else:\n",
        "  print(n,\"is not a multiple\")  "
      ],
      "execution_count": 46,
      "outputs": [
        {
          "output_type": "stream",
          "text": [
            "enter a number15\n",
            "15 is a multiple of 3 and 5\n"
          ],
          "name": "stdout"
        }
      ]
    },
    {
      "cell_type": "code",
      "metadata": {
        "id": "bcB42Q13Xh5D",
        "colab_type": "code",
        "colab": {
          "base_uri": "https://localhost:8080/",
          "height": 51
        },
        "outputId": "13f1aa27-4296-48e6-ae7d-bd20323c91cc"
      },
      "source": [
        "# To check given number is positive ,negative 0r zero.\n",
        "n = int(input(\"enter a number\"))\n",
        "if  n> 0 :\n",
        "  print(n,\"is a positive\")\n",
        "if  n< 0 :  \n",
        "  print(n,\"is negative\") \n",
        "else:\n",
        "  print(n, \"is zero\")"
      ],
      "execution_count": 56,
      "outputs": [
        {
          "output_type": "stream",
          "text": [
            "enter a number0\n",
            "0 is zero\n"
          ],
          "name": "stdout"
        }
      ]
    },
    {
      "cell_type": "code",
      "metadata": {
        "id": "yrfO5A6pZ--j",
        "colab_type": "code",
        "colab": {
          "base_uri": "https://localhost:8080/",
          "height": 85
        },
        "outputId": "c8dff973-a5e5-4de1-d9ec-64fb834ed509"
      },
      "source": [
        "# To find largest number\n",
        " x = int(input(\"enter X\"))\n",
        " y = int(input(\"enter Y\"))\n",
        " z = int(input(\"enter Z\"))\n",
        "if (x>y and x>z):\n",
        "  print(x,\"is largest\")\n",
        "elif( y>x and y>z):\n",
        "  print(y,\"is largest\")\n",
        "else:\n",
        "  print(z,\"is largest\")  "
      ],
      "execution_count": 68,
      "outputs": [
        {
          "output_type": "stream",
          "text": [
            "enter X4\n",
            "enter Y5\n",
            "enter Z6\n",
            "6 is largest\n"
          ],
          "name": "stdout"
        }
      ]
    },
    {
      "cell_type": "code",
      "metadata": {
        "id": "wUdKPnuscNQJ",
        "colab_type": "code",
        "colab": {
          "base_uri": "https://localhost:8080/",
          "height": 129
        },
        "outputId": "efa4b123-3f18-4abd-dad2-fe3653d69228"
      },
      "source": [
        "# to find leap year\n",
        "n = int(input(\"enter a year\"))\n",
        "if n%4==0 and n%400 !=0 and n%100 ==0\n",
        " print(n,\"is a leap year\")\n",
        "else:\n",
        "  print(n,\"is not a leap year\")\n"
      ],
      "execution_count": 72,
      "outputs": [
        {
          "output_type": "error",
          "ename": "SyntaxError",
          "evalue": "ignored",
          "traceback": [
            "\u001b[0;36m  File \u001b[0;32m\"<ipython-input-72-4f51b760bb40>\"\u001b[0;36m, line \u001b[0;32m2\u001b[0m\n\u001b[0;31m    if n%4==0 and n%400 !=0 and n%100 ==0\u001b[0m\n\u001b[0m                                         ^\u001b[0m\n\u001b[0;31mSyntaxError\u001b[0m\u001b[0;31m:\u001b[0m invalid syntax\n"
          ]
        }
      ]
    },
    {
      "cell_type": "code",
      "metadata": {
        "id": "41X2wqJeeprm",
        "colab_type": "code",
        "colab": {}
      },
      "source": [
        ""
      ],
      "execution_count": 0,
      "outputs": []
    }
  ]
}
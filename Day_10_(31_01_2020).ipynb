{
  "nbformat": 4,
  "nbformat_minor": 0,
  "metadata": {
    "colab": {
      "name": "Day 10 (31-01-2020)",
      "provenance": [],
      "authorship_tag": "ABX9TyMiYJQg+N6FIy1Rly7ajyk7",
      "include_colab_link": true
    },
    "kernelspec": {
      "name": "python3",
      "display_name": "Python 3"
    }
  },
  "cells": [
    {
      "cell_type": "markdown",
      "metadata": {
        "id": "view-in-github",
        "colab_type": "text"
      },
      "source": [
        "<a href=\"https://colab.research.google.com/github/kolimitehseenraisabasri813/Python/blob/master/Day_10_(31_01_2020).ipynb\" target=\"_parent\"><img src=\"https://colab.research.google.com/assets/colab-badge.svg\" alt=\"Open In Colab\"/></a>"
      ]
    },
    {
      "cell_type": "code",
      "metadata": {
        "id": "ElhJEtFlug20",
        "colab_type": "code",
        "colab": {}
      },
      "source": [
        ""
      ],
      "execution_count": 0,
      "outputs": []
    },
    {
      "cell_type": "markdown",
      "metadata": {
        "id": "NB4fsScLxXPS",
        "colab_type": "text"
      },
      "source": [
        "# Loops\n",
        "- While loop\n",
        "- For loop\n"
      ]
    },
    {
      "cell_type": "code",
      "metadata": {
        "id": "QtA5qhbQxfL8",
        "colab_type": "code",
        "outputId": "c5cd0a3e-a4be-4000-bae6-46108671b715",
        "colab": {
          "base_uri": "https://localhost:8080/",
          "height": 51
        }
      },
      "source": [
        "# Print numbers from 1 to n\n",
        "# input 10\n",
        "# output 1 2 3 4 ...10\n",
        "n = int(input(\"enter a number:\"))\n",
        "i = 1\n",
        "while i <=n:\n",
        "  print(i,end = \" \")\n",
        "  i = i+1\n",
        "  "
      ],
      "execution_count": 0,
      "outputs": [
        {
          "output_type": "stream",
          "text": [
            "enter a number:10\n",
            "1 2 3 4 5 6 7 8 9 10 "
          ],
          "name": "stdout"
        }
      ]
    },
    {
      "cell_type": "code",
      "metadata": {
        "id": "5x7Zc1eOyGaK",
        "colab_type": "code",
        "outputId": "46ba3e34-4786-4b46-d9f2-aed5c91937f5",
        "colab": {
          "base_uri": "https://localhost:8080/",
          "height": 136
        }
      },
      "source": [
        "# print sum of even numbers\n",
        "# input = 10\n",
        "# output = (2+4+6+8+10)=30\n",
        "n = int(input(\"enter a number:\"))\n",
        "i = 0\n",
        "sum = 0\n",
        "while i<=n:\n",
        "      sum = sum+i\n",
        "      i =i+2 \n",
        "      print(sum)\n",
        "   "
      ],
      "execution_count": 0,
      "outputs": [
        {
          "output_type": "stream",
          "text": [
            "enter a number:10\n",
            "0\n",
            "2\n",
            "6\n",
            "12\n",
            "20\n",
            "30\n"
          ],
          "name": "stdout"
        }
      ]
    },
    {
      "cell_type": "code",
      "metadata": {
        "id": "evSrqq8_0D1Z",
        "colab_type": "code",
        "outputId": "fbff29c2-8cd9-4da4-f3a6-a16e1623957a",
        "colab": {
          "base_uri": "https://localhost:8080/",
          "height": 231
        }
      },
      "source": [
        "# Given number is palindrome\n",
        "# input = 123\n",
        "# output = 321\n",
        "n = int(input(\"enter a number :\"))\n",
        "rem = 0\n",
        "num = 0\n",
        "while n>0:\n",
        "  rem = n%10\n",
        "  num = num*10+rem\n",
        "  n = n//10\n",
        "  print(num)\n"
      ],
      "execution_count": 0,
      "outputs": [
        {
          "output_type": "error",
          "ename": "TypeError",
          "evalue": "ignored",
          "traceback": [
            "\u001b[0;31m---------------------------------------------------------------------------\u001b[0m",
            "\u001b[0;31mTypeError\u001b[0m                                 Traceback (most recent call last)",
            "\u001b[0;32m<ipython-input-98-c606eae4f227>\u001b[0m in \u001b[0;36m<module>\u001b[0;34m()\u001b[0m\n\u001b[0;32m----> 1\u001b[0;31m \u001b[0mn\u001b[0m \u001b[0;34m=\u001b[0m \u001b[0mint\u001b[0m\u001b[0;34m(\u001b[0m\u001b[0minput\u001b[0m\u001b[0;34m(\u001b[0m\u001b[0;34m\"enter a number :\"\u001b[0m\u001b[0;34m)\u001b[0m\u001b[0;34m)\u001b[0m\u001b[0;34m\u001b[0m\u001b[0;34m\u001b[0m\u001b[0m\n\u001b[0m\u001b[1;32m      2\u001b[0m \u001b[0mrem\u001b[0m \u001b[0;34m=\u001b[0m \u001b[0;36m0\u001b[0m\u001b[0;34m\u001b[0m\u001b[0;34m\u001b[0m\u001b[0m\n\u001b[1;32m      3\u001b[0m \u001b[0mnum\u001b[0m \u001b[0;34m=\u001b[0m \u001b[0;36m0\u001b[0m\u001b[0;34m\u001b[0m\u001b[0;34m\u001b[0m\u001b[0m\n\u001b[1;32m      4\u001b[0m \u001b[0;32mwhile\u001b[0m \u001b[0mn\u001b[0m\u001b[0;34m>\u001b[0m\u001b[0;36m0\u001b[0m\u001b[0;34m:\u001b[0m\u001b[0;34m\u001b[0m\u001b[0;34m\u001b[0m\u001b[0m\n\u001b[1;32m      5\u001b[0m   \u001b[0mrem\u001b[0m \u001b[0;34m=\u001b[0m \u001b[0mn\u001b[0m\u001b[0;34m%\u001b[0m\u001b[0;36m10\u001b[0m\u001b[0;34m\u001b[0m\u001b[0;34m\u001b[0m\u001b[0m\n",
            "\u001b[0;31mTypeError\u001b[0m: 'int' object is not callable"
          ]
        }
      ]
    },
    {
      "cell_type": "code",
      "metadata": {
        "id": "f0JUcfEM58YN",
        "colab_type": "code",
        "colab": {}
      },
      "source": [
        " "
      ],
      "execution_count": 0,
      "outputs": []
    },
    {
      "cell_type": "markdown",
      "metadata": {
        "id": "TyUqmBJ19Dg2",
        "colab_type": "text"
      },
      "source": [
        "# Functional Programming\n",
        "- simple \n",
        "- easy to understand\n",
        "- better reusability\n",
        "- lengthy program will be divided into sub programs"
      ]
    },
    {
      "cell_type": "code",
      "metadata": {
        "id": "UyaefRQ_-Iki",
        "colab_type": "code",
        "colab": {}
      },
      "source": [
        "def nameofthefunction(<parameter>):\n",
        "    statements\n",
        "    return\n",
        "\n",
        "  \n",
        "    \n",
        "    \n",
        "        \n",
        "        \n",
        "          \n",
        "          \n",
        "        "
      ],
      "execution_count": 0,
      "outputs": []
    },
    {
      "cell_type": "code",
      "metadata": {
        "id": "cEOydcZcCYdr",
        "colab_type": "code",
        "outputId": "749c1474-8edf-4eae-96d0-dbc1f7c4a519",
        "colab": {
          "base_uri": "https://localhost:8080/",
          "height": 34
        }
      },
      "source": [
        " # print sum of even number\n",
        "    # input:1234\n",
        "    # output:(2+4)=6\n",
        "    def sumofevendigits(n):\n",
        "        s = 0\n",
        "        while n!= 0:\n",
        "           r = n%10\n",
        "           if r%2==0:\n",
        "             s=s+r\n",
        "           n =n //10\n",
        "        return s \n",
        "sumofevendigits(1234) "
      ],
      "execution_count": 0,
      "outputs": [
        {
          "output_type": "execute_result",
          "data": {
            "text/plain": [
              "6"
            ]
          },
          "metadata": {
            "tags": []
          },
          "execution_count": 70
        }
      ]
    },
    {
      "cell_type": "code",
      "metadata": {
        "id": "wkor6fUoCU0Y",
        "colab_type": "code",
        "outputId": "84ed41a0-3c0e-4c47-fc73-695f72d9992b",
        "colab": {
          "base_uri": "https://localhost:8080/",
          "height": 34
        }
      },
      "source": [
        " # Print largest number\n",
        " def large(n): \n",
        "    prev=0\n",
        "    next=0\n",
        "    while (n!=0):\n",
        "      prev=next\n",
        "      next=n%10\n",
        "      if(prev>next):\n",
        "        next=prev\n",
        "      n=n//10\n",
        "    return next\n",
        " large(12345)"
      ],
      "execution_count": 0,
      "outputs": [
        {
          "output_type": "execute_result",
          "data": {
            "text/plain": [
              "5"
            ]
          },
          "metadata": {
            "tags": []
          },
          "execution_count": 85
        }
      ]
    },
    {
      "cell_type": "code",
      "metadata": {
        "id": "UI2vBKdiEAMv",
        "colab_type": "code",
        "colab": {}
      },
      "source": [
        " "
      ],
      "execution_count": 0,
      "outputs": []
    },
    {
      "cell_type": "markdown",
      "metadata": {
        "id": "M6QNEhghIZ3K",
        "colab_type": "text"
      },
      "source": [
        "# For Loop\n",
        "# syntax\n",
        "# for in range(start,stop,step):\n",
        "statements"
      ]
    },
    {
      "cell_type": "code",
      "metadata": {
        "id": "F5aWtx9cIw9g",
        "colab_type": "code",
        "colab": {}
      },
      "source": [
        "# syntax:\n",
        "for in range(start,stop,step):\n",
        "    statements"
      ],
      "execution_count": 0,
      "outputs": []
    },
    {
      "cell_type": "code",
      "metadata": {
        "id": "sLx43Sx1CSba",
        "colab_type": "code",
        "outputId": "d0a23d83-29fe-4515-9a05-bb34a5e98459",
        "colab": {
          "base_uri": "https://localhost:8080/",
          "height": 34
        }
      },
      "source": [
        "# Using function print the numbers between limits\n",
        "# input :11 25\n",
        "# output:11 12 13 14 .........24 25 \n",
        "def printseries(fn,ln):\n",
        "  for i in range(fn,ln+1):\n",
        "    print(i,end=\" \")\n",
        "  return\n",
        "printseries(11,25)\n",
        "\n"
      ],
      "execution_count": 0,
      "outputs": [
        {
          "output_type": "stream",
          "text": [
            "11 12 13 14 15 16 17 18 19 20 21 22 23 24 25 "
          ],
          "name": "stdout"
        }
      ]
    },
    {
      "cell_type": "code",
      "metadata": {
        "id": "NtmZvS6JJz0s",
        "colab_type": "code",
        "outputId": "6ecc66b7-ede3-4207-f4cf-0e14f459d25d",
        "colab": {
          "base_uri": "https://localhost:8080/",
          "height": 34
        }
      },
      "source": [
        "# input:500,520\n",
        "# output:500,504,508......516,520\n",
        "def printseries(fn,ln):\n",
        "  for i in range(fn,ln+1,4):\n",
        "    print(i,end=\" \")\n",
        "  return\n",
        "printseries(500,520) "
      ],
      "execution_count": 0,
      "outputs": [
        {
          "output_type": "stream",
          "text": [
            "500 504 508 512 516 520 "
          ],
          "name": "stdout"
        }
      ]
    },
    {
      "cell_type": "markdown",
      "metadata": {
        "id": "kO1FPHZFMzBA",
        "colab_type": "text"
      },
      "source": [
        "# Collection Types\n",
        "- List\n",
        "- Tuple\n",
        "- Dictionary"
      ]
    },
    {
      "cell_type": "markdown",
      "metadata": {
        "id": "663l_2rAM-wu",
        "colab_type": "text"
      },
      "source": [
        "# List:\n",
        "- One of the data structure in python\n",
        "- Data structure means to store,sort and search options\n",
        "- Its one common data structure in python,the items of list separated by comma and enclosed by square brackets\n",
        "-  In List we can change values \n",
        "- ex:\n",
        "- List1=[1,2,3,4,5]\n",
        "- List=[\"JNTUA\",\"DASD\",\"asds\"]"
      ]
    },
    {
      "cell_type": "code",
      "metadata": {
        "id": "gdGMv-WHOIff",
        "colab_type": "code",
        "outputId": "db32ebff-967e-4d53-d7d9-dde1032210ae",
        "colab": {
          "base_uri": "https://localhost:8080/",
          "height": 136
        }
      },
      "source": [
        "li = [1,8,2,5,4]\n",
        "print(li)\n",
        "print(li[2])\n",
        "print(li[-3])\n",
        "print(li[2:])\n",
        "print(li[2:4])\n",
        "print(li[-3:-1])\n",
        "print(li[::3])"
      ],
      "execution_count": 124,
      "outputs": [
        {
          "output_type": "stream",
          "text": [
            "[1, 8, 2, 5, 4]\n",
            "2\n",
            "2\n",
            "[2, 5, 4]\n",
            "[2, 5]\n",
            "[2, 5]\n",
            "[1, 5]\n"
          ],
          "name": "stdout"
        }
      ]
    },
    {
      "cell_type": "code",
      "metadata": {
        "id": "14PcC8OVO9P-",
        "colab_type": "code",
        "colab": {
          "base_uri": "https://localhost:8080/",
          "height": 68
        },
        "outputId": "7ff23d99-43ae-4794-d929-e018bf8c64d1"
      },
      "source": [
        "# Update List\n",
        "li = [\"JNTUA\",8,\"ANTP\",5,4]\n",
        "print(li)\n",
        "li[1]=\"154\"\n",
        "print(li)\n",
        "# delete list item\n",
        "del li[1]\n",
        "print(li)"
      ],
      "execution_count": 127,
      "outputs": [
        {
          "output_type": "stream",
          "text": [
            "['JNTUA', 8, 'ANTP', 5, 4]\n",
            "['JNTUA', '154', 'ANTP', 5, 4]\n",
            "['JNTUA', 'ANTP', 5, 4]\n"
          ],
          "name": "stdout"
        }
      ]
    },
    {
      "cell_type": "code",
      "metadata": {
        "id": "CVx_TzUEfnOu",
        "colab_type": "code",
        "colab": {
          "base_uri": "https://localhost:8080/",
          "height": 85
        },
        "outputId": "6034191d-8884-4254-d8f7-c09a5b40a047"
      },
      "source": [
        "# Basic list operations\n",
        "li = [1,2,3,4,5]\n",
        "print(len(li))\n",
        "print(li*2)\n",
        "print(4 in li)\n",
        "print(6 in li)"
      ],
      "execution_count": 131,
      "outputs": [
        {
          "output_type": "stream",
          "text": [
            "5\n",
            "[1, 2, 3, 4, 5, 1, 2, 3, 4, 5]\n",
            "True\n",
            "False\n"
          ],
          "name": "stdout"
        }
      ]
    },
    {
      "cell_type": "markdown",
      "metadata": {
        "id": "u6cpX78kgSAs",
        "colab_type": "text"
      },
      "source": [
        "# List Functions\n",
        "- Max \n",
        "- Min \n",
        "- Sum\n",
        "- Append\n",
        "- Insert\n",
        "- Count\n",
        "- Index\n",
        "- Sort\n",
        "- Pop"
      ]
    },
    {
      "cell_type": "code",
      "metadata": {
        "id": "JNX7YYmOgi6i",
        "colab_type": "code",
        "colab": {
          "base_uri": "https://localhost:8080/",
          "height": 231
        },
        "outputId": "c5329d3d-fff4-4723-e274-52a63b124ae0"
      },
      "source": [
        "li = [1,2,3,4,5]\n",
        "print(max(li))\n",
        "print(min(li))\n",
        "print(sum(li))"
      ],
      "execution_count": 134,
      "outputs": [
        {
          "output_type": "stream",
          "text": [
            "5\n",
            "1\n"
          ],
          "name": "stdout"
        },
        {
          "output_type": "error",
          "ename": "TypeError",
          "evalue": "ignored",
          "traceback": [
            "\u001b[0;31m---------------------------------------------------------------------------\u001b[0m",
            "\u001b[0;31mTypeError\u001b[0m                                 Traceback (most recent call last)",
            "\u001b[0;32m<ipython-input-134-5585bf0fba92>\u001b[0m in \u001b[0;36m<module>\u001b[0;34m()\u001b[0m\n\u001b[1;32m      2\u001b[0m \u001b[0mprint\u001b[0m\u001b[0;34m(\u001b[0m\u001b[0mmax\u001b[0m\u001b[0;34m(\u001b[0m\u001b[0mli\u001b[0m\u001b[0;34m)\u001b[0m\u001b[0;34m)\u001b[0m\u001b[0;34m\u001b[0m\u001b[0;34m\u001b[0m\u001b[0m\n\u001b[1;32m      3\u001b[0m \u001b[0mprint\u001b[0m\u001b[0;34m(\u001b[0m\u001b[0mmin\u001b[0m\u001b[0;34m(\u001b[0m\u001b[0mli\u001b[0m\u001b[0;34m)\u001b[0m\u001b[0;34m)\u001b[0m\u001b[0;34m\u001b[0m\u001b[0;34m\u001b[0m\u001b[0m\n\u001b[0;32m----> 4\u001b[0;31m \u001b[0mprint\u001b[0m\u001b[0;34m(\u001b[0m\u001b[0msum\u001b[0m\u001b[0;34m(\u001b[0m\u001b[0mli\u001b[0m\u001b[0;34m)\u001b[0m\u001b[0;34m)\u001b[0m\u001b[0;34m\u001b[0m\u001b[0;34m\u001b[0m\u001b[0m\n\u001b[0m",
            "\u001b[0;31mTypeError\u001b[0m: 'int' object is not callable"
          ]
        }
      ]
    },
    {
      "cell_type": "code",
      "metadata": {
        "id": "v1YyCgKIgqET",
        "colab_type": "code",
        "colab": {
          "base_uri": "https://localhost:8080/",
          "height": 34
        },
        "outputId": "2291b065-4be4-4fbe-d6d3-bbb5b79674e3"
      },
      "source": [
        "l = [1,8,9,3,4,5,6]\n",
        "#l.append(56)\n",
        "#l.insert(2,56)\n",
        "#l.count(5)\n",
        "l.index(4)\n",
        "#l.sort()\n",
        "#l.pop(3)\n",
        "print(l)\n"
      ],
      "execution_count": 174,
      "outputs": [
        {
          "output_type": "stream",
          "text": [
            "[1, 8, 9, 3, 4, 5, 6]\n"
          ],
          "name": "stdout"
        }
      ]
    },
    {
      "cell_type": "code",
      "metadata": {
        "id": "jb0DSGvYhMcZ",
        "colab_type": "code",
        "colab": {
          "base_uri": "https://localhost:8080/",
          "height": 51
        },
        "outputId": "741dc902-33c0-4681-bd75-4e2ee883f05c"
      },
      "source": [
        "# Using function return large number from the list\n",
        "def smallnumber(li):\n",
        "  li.sort()\n",
        "  return li[0]\n",
        "def genericsmall(li,n):\n",
        "  li.sort()\n",
        "  return li[n]\n",
        "li =[13,2,43,74,78,12,35]\n",
        "print(smallnumber(li))\n",
        "print(genericsmall(li,3))\n",
        "\n"
      ],
      "execution_count": 170,
      "outputs": [
        {
          "output_type": "stream",
          "text": [
            "2\n",
            "35\n"
          ],
          "name": "stdout"
        }
      ]
    },
    {
      "cell_type": "markdown",
      "metadata": {
        "id": "WxeD40lknGng",
        "colab_type": "text"
      },
      "source": [
        "# Tuples\n",
        "- parenthesis() -->tuple and square"
      ]
    },
    {
      "cell_type": "code",
      "metadata": {
        "id": "cpFAqintkR5m",
        "colab_type": "code",
        "colab": {}
      },
      "source": [
        ""
      ],
      "execution_count": 0,
      "outputs": []
    }
  ]
}